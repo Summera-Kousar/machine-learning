{
 "cells": [
  {
   "cell_type": "markdown",
   "id": "8dabd657",
   "metadata": {},
   "source": [
    "## Non-Linear Regression\n",
    "- **Definition**\n",
    "\n",
    "Nonlinear regression involves curves. This is partially true, and if you want a loose definition for the difference, you can \n",
    "probably stop right there. However, linear equations can sometimes produce curves. \n",
    "In order to understand why, you need to take a look at the linear regression equation form.\n",
    "### Types of Non-Linear Regression\n",
    "\n",
    "- Support vector regression\n",
    "- Decision Tree Regression\n",
    "- Random Forest Tree Regression"
   ]
  },
  {
   "cell_type": "markdown",
   "id": "a7a17e74",
   "metadata": {},
   "source": [
    "# Support Vector Regression\n",
    "- **Difference b/w SVM & SVR**\n",
    "\n",
    "SVM, which stands for Support Vector Machine, is a clissifier. Classifiers perform classification, predictiong discete categorical labels. \n",
    "\n",
    "SVR, which stands for Support Vector Regressor, is a regressor. Regressors perform regression, predictiong continious ordered variables. Both ordered variables. Both use very similar algorithms, but predict different types of variables. \n",
    "\n",
    "In simple regression we try to minimize the errror rate. While in SVR we try to fit the error within a certain threshold.\n",
    "\n",
    "- **Kernel:**\n",
    "\n",
    "The function used to map a lower dimensional daa into a higher dimensional data.\n",
    "\n",
    "- **Hyper Plane:**\n",
    "\n",
    "In SVM this is basically the separation line between the data classes. Although is SVR we are going to define it as the line that will help us prdct the continuous value or target value.\n",
    "\n",
    "- **Boundary line:**\n",
    "\n",
    "In SVM there are two lines other than Hyper Plane which creates a margin. The support vectors can be on the Boundary lines or outside it. This boundary line separates the two classes. In SVR the concept is same.\n",
    "\n",
    "- **Support vectors:**\n",
    "\n",
    "These are the data points which are closest which are closest to the boundary. The distance of the points is minimum or least."
   ]
  },
  {
   "cell_type": "markdown",
   "id": "496384d7",
   "metadata": {},
   "source": [
    "### Step-1 Import  Libraries"
   ]
  },
  {
   "cell_type": "code",
   "execution_count": 4,
   "id": "5d3d3c5c",
   "metadata": {},
   "outputs": [],
   "source": [
    "import pandas as pd\n",
    "import numpy as np\n",
    "import matplotlib.pyplot as plt"
   ]
  },
  {
   "cell_type": "markdown",
   "id": "f521abb6",
   "metadata": {},
   "source": [
    "### Step-2 Load Dataset"
   ]
  },
  {
   "cell_type": "code",
   "execution_count": 5,
   "id": "06a84fad",
   "metadata": {},
   "outputs": [
    {
     "data": {
      "text/html": [
       "<div>\n",
       "<style scoped>\n",
       "    .dataframe tbody tr th:only-of-type {\n",
       "        vertical-align: middle;\n",
       "    }\n",
       "\n",
       "    .dataframe tbody tr th {\n",
       "        vertical-align: top;\n",
       "    }\n",
       "\n",
       "    .dataframe thead th {\n",
       "        text-align: right;\n",
       "    }\n",
       "</style>\n",
       "<table border=\"1\" class=\"dataframe\">\n",
       "  <thead>\n",
       "    <tr style=\"text-align: right;\">\n",
       "      <th></th>\n",
       "      <th>level</th>\n",
       "      <th>salary</th>\n",
       "    </tr>\n",
       "  </thead>\n",
       "  <tbody>\n",
       "    <tr>\n",
       "      <th>0</th>\n",
       "      <td>1</td>\n",
       "      <td>45000</td>\n",
       "    </tr>\n",
       "    <tr>\n",
       "      <th>1</th>\n",
       "      <td>2</td>\n",
       "      <td>50000</td>\n",
       "    </tr>\n",
       "    <tr>\n",
       "      <th>2</th>\n",
       "      <td>3</td>\n",
       "      <td>60000</td>\n",
       "    </tr>\n",
       "    <tr>\n",
       "      <th>3</th>\n",
       "      <td>4</td>\n",
       "      <td>80000</td>\n",
       "    </tr>\n",
       "    <tr>\n",
       "      <th>4</th>\n",
       "      <td>5</td>\n",
       "      <td>110000</td>\n",
       "    </tr>\n",
       "  </tbody>\n",
       "</table>\n",
       "</div>"
      ],
      "text/plain": [
       "   level  salary\n",
       "0      1   45000\n",
       "1      2   50000\n",
       "2      3   60000\n",
       "3      4   80000\n",
       "4      5  110000"
      ]
     },
     "execution_count": 5,
     "metadata": {},
     "output_type": "execute_result"
    }
   ],
   "source": [
    "df = pd.read_excel('poly_reg.xlsx')\n",
    "df.head()"
   ]
  },
  {
   "cell_type": "markdown",
   "id": "54e6749f",
   "metadata": {},
   "source": [
    "### Step-3 Split data into training and testing data"
   ]
  },
  {
   "cell_type": "code",
   "execution_count": 6,
   "id": "46cae137",
   "metadata": {},
   "outputs": [],
   "source": [
    "from sklearn.model_selection import train_test_split\n",
    "X = df.iloc[:,0:1].values\n",
    "y = df.iloc[:,1].values"
   ]
  },
  {
   "cell_type": "markdown",
   "id": "751c6d8f",
   "metadata": {},
   "source": [
    "### Step-4 Transformation of data"
   ]
  },
  {
   "cell_type": "code",
   "execution_count": 7,
   "id": "8b3cc2a4",
   "metadata": {},
   "outputs": [],
   "source": [
    "### Transform data for batter prediction"
   ]
  },
  {
   "cell_type": "code",
   "execution_count": 8,
   "id": "c5190e19",
   "metadata": {},
   "outputs": [],
   "source": [
    "from sklearn.preprocessing import StandardScaler\n",
    "sc_X=StandardScaler()\n",
    "X= sc_X.fit_transform(X)\n",
    "sc_y= StandardScaler()\n",
    "y= sc_X.fit_transform(np.reshape(y,(10,1)))"
   ]
  },
  {
   "cell_type": "markdown",
   "id": "7dd74fec",
   "metadata": {},
   "source": [
    "### Step-5 Fit SVM model"
   ]
  },
  {
   "cell_type": "code",
   "execution_count": 9,
   "id": "8e6fdaab",
   "metadata": {},
   "outputs": [
    {
     "name": "stderr",
     "output_type": "stream",
     "text": [
      "C:\\Users\\FINE COMPUTERS\\anaconda3\\lib\\site-packages\\sklearn\\utils\\validation.py:63: DataConversionWarning: A column-vector y was passed when a 1d array was expected. Please change the shape of y to (n_samples, ), for example using ravel().\n",
      "  return f(*args, **kwargs)\n"
     ]
    },
    {
     "data": {
      "text/plain": [
       "SVR()"
      ]
     },
     "execution_count": 9,
     "metadata": {},
     "output_type": "execute_result"
    }
   ],
   "source": [
    "from sklearn.svm import SVR\n",
    "model = SVR(kernel='rbf')\n",
    "model.fit(X,y)"
   ]
  },
  {
   "cell_type": "markdown",
   "id": "174fc3d7",
   "metadata": {},
   "source": [
    "### Step-6 Plotting"
   ]
  },
  {
   "cell_type": "code",
   "execution_count": 10,
   "id": "63c51d5a",
   "metadata": {},
   "outputs": [
    {
     "data": {
      "image/png": "[encoded data removed]",
      "text/plain": [
       "<Figure size 432x288 with 1 Axes>"
      ]
     },
     "metadata": {
      "needs_background": "light"
     },
     "output_type": "display_data"
    }
   ],
   "source": [
    "plt.scatter(X,y,color='red')\n",
    "plt.plot(X, model.predict(X), color='blue')\n",
    "plt.title('SVR, Salary vs Experience')\n",
    "plt.xlabel('Position of Employee')\n",
    "plt.ylabel('Saleries of Employee')\n",
    "plt.show()"
   ]
  },
  {
   "cell_type": "markdown",
   "id": "9ec86c41",
   "metadata": {},
   "source": [
    "### Step-7 Prediction"
   ]
  },
  {
   "cell_type": "code",
   "execution_count": 15,
   "id": "718e0b4f",
   "metadata": {},
   "outputs": [
    {
     "data": {
      "text/plain": [
       "array([0.01158103])"
      ]
     },
     "execution_count": 15,
     "metadata": {},
     "output_type": "execute_result"
    }
   ],
   "source": [
    "model.predict(np.reshape(6.5,(1,1)))"
   ]
  },
  {
   "cell_type": "markdown",
   "id": "f1bb8849",
   "metadata": {},
   "source": [
    "### Step-8 Accuracy Score"
   ]
  },
  {
   "cell_type": "code",
   "execution_count": 14,
   "id": "969e63e5",
   "metadata": {},
   "outputs": [
    {
     "name": "stdout",
     "output_type": "stream",
     "text": [
      "Accuracy Score=  0.7516001070620798\n"
     ]
    }
   ],
   "source": [
    "print('Accuracy Score= ', model.score(X, y))"
   ]
  },
  {
   "cell_type": "code",
   "execution_count": null,
   "id": "856fa9d8",
   "metadata": {},
   "outputs": [],
   "source": []
  }
 ],
 "metadata": {
  "kernelspec": {
   "display_name": "Python 3 (ipykernel)",
   "language": "python",
   "name": "python3"
  },
  "language_info": {
   "codemirror_mode": {
    "name": "ipython",
    "version": 3
   },
   "file_extension": ".py",
   "mimetype": "text/x-python",
   "name": "python",
   "nbconvert_exporter": "python",
   "pygments_lexer": "ipython3",
   "version": "3.9.7"
  }
 },
 "nbformat": 4,
 "nbformat_minor": 5
}
