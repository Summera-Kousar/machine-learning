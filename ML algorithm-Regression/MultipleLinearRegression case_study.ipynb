{
 "cells": [
  {
   "cell_type": "markdown",
   "id": "b50de76d",
   "metadata": {},
   "source": [
    "# Multiple Linear Regression\n",
    "\n",
    "It is the extention of simple linear regression that predict response using two or more features.\n",
    "Mathmatically we can explain it as follows:\n",
    "- **Equation:**\n",
    "\n",
    "    y = m1*x1 + m2*x2 + m3*x3 + b\n",
    "    \n",
    "    Here\n",
    "    \n",
    "    y = predicted value/dependent variable\n",
    "    \n",
    "    m1,m2,m3 = cofficient\n",
    "    \n",
    "    x1, x2, x3 = Independent variables\n",
    "    \n",
    "    b = Intercept\n",
    "    \n",
    "- **According to the dataset we are going to use this equation will be:**\n",
    "\n",
    "    price = m1*area + m2*bedrooms + m3*age +b\n",
    "    \n",
    "    dependent variable = area, bedrooms and age are independent variables(features) m1, m2 and m3 are coefficients and b is \n",
    "    \n",
    "    interceplt"
   ]
  },
  {
   "cell_type": "markdown",
   "id": "0b68b420",
   "metadata": {},
   "source": [
    "### Step-1 Import Libraries and dataset"
   ]
  },
  {
   "cell_type": "code",
   "execution_count": 26,
   "id": "211aa2cc",
   "metadata": {},
   "outputs": [],
   "source": [
    "import pandas as pd\n",
    "import numpy as np\n",
    "import matplotlib.pyplot as plt\n",
    "from sklearn.linear_model import LinearRegression"
   ]
  },
  {
   "cell_type": "code",
   "execution_count": 27,
   "id": "5076bac1",
   "metadata": {},
   "outputs": [],
   "source": [
    "# Import your data\n",
    "df = pd.read_excel('multiple_linear_regression.xlsx')"
   ]
  },
  {
   "cell_type": "code",
   "execution_count": 28,
   "id": "2be44233",
   "metadata": {},
   "outputs": [
    {
     "data": {
      "text/html": [
       "<div>\n",
       "<style scoped>\n",
       "    .dataframe tbody tr th:only-of-type {\n",
       "        vertical-align: middle;\n",
       "    }\n",
       "\n",
       "    .dataframe tbody tr th {\n",
       "        vertical-align: top;\n",
       "    }\n",
       "\n",
       "    .dataframe thead th {\n",
       "        text-align: right;\n",
       "    }\n",
       "</style>\n",
       "<table border=\"1\" class=\"dataframe\">\n",
       "  <thead>\n",
       "    <tr style=\"text-align: right;\">\n",
       "      <th></th>\n",
       "      <th>age</th>\n",
       "      <th>distance</th>\n",
       "      <th>yearsof experience</th>\n",
       "      <th>salary</th>\n",
       "    </tr>\n",
       "  </thead>\n",
       "  <tbody>\n",
       "    <tr>\n",
       "      <th>0</th>\n",
       "      <td>31.1</td>\n",
       "      <td>77.50</td>\n",
       "      <td>1.1</td>\n",
       "      <td>39343</td>\n",
       "    </tr>\n",
       "    <tr>\n",
       "      <th>1</th>\n",
       "      <td>31.3</td>\n",
       "      <td>78.25</td>\n",
       "      <td>1.3</td>\n",
       "      <td>46205</td>\n",
       "    </tr>\n",
       "    <tr>\n",
       "      <th>2</th>\n",
       "      <td>31.5</td>\n",
       "      <td>78.75</td>\n",
       "      <td>1.5</td>\n",
       "      <td>37731</td>\n",
       "    </tr>\n",
       "    <tr>\n",
       "      <th>3</th>\n",
       "      <td>32.0</td>\n",
       "      <td>80.00</td>\n",
       "      <td>2.0</td>\n",
       "      <td>43525</td>\n",
       "    </tr>\n",
       "    <tr>\n",
       "      <th>4</th>\n",
       "      <td>32.2</td>\n",
       "      <td>80.50</td>\n",
       "      <td>2.2</td>\n",
       "      <td>39891</td>\n",
       "    </tr>\n",
       "  </tbody>\n",
       "</table>\n",
       "</div>"
      ],
      "text/plain": [
       "    age  distance  yearsof experience  salary\n",
       "0  31.1     77.50                 1.1   39343\n",
       "1  31.3     78.25                 1.3   46205\n",
       "2  31.5     78.75                 1.5   37731\n",
       "3  32.0     80.00                 2.0   43525\n",
       "4  32.2     80.50                 2.2   39891"
      ]
     },
     "execution_count": 28,
     "metadata": {},
     "output_type": "execute_result"
    }
   ],
   "source": [
    "df.head()"
   ]
  },
  {
   "cell_type": "markdown",
   "id": "f64cb333",
   "metadata": {},
   "source": [
    "### Step-2 Splitting dataset into training data and testing data"
   ]
  },
  {
   "cell_type": "code",
   "execution_count": 29,
   "id": "c838198c",
   "metadata": {},
   "outputs": [
    {
     "data": {
      "text/html": [
       "<div>\n",
       "<style scoped>\n",
       "    .dataframe tbody tr th:only-of-type {\n",
       "        vertical-align: middle;\n",
       "    }\n",
       "\n",
       "    .dataframe tbody tr th {\n",
       "        vertical-align: top;\n",
       "    }\n",
       "\n",
       "    .dataframe thead th {\n",
       "        text-align: right;\n",
       "    }\n",
       "</style>\n",
       "<table border=\"1\" class=\"dataframe\">\n",
       "  <thead>\n",
       "    <tr style=\"text-align: right;\">\n",
       "      <th></th>\n",
       "      <th>age</th>\n",
       "      <th>distance</th>\n",
       "      <th>yearsof experience</th>\n",
       "    </tr>\n",
       "  </thead>\n",
       "  <tbody>\n",
       "    <tr>\n",
       "      <th>0</th>\n",
       "      <td>31.1</td>\n",
       "      <td>77.50</td>\n",
       "      <td>1.1</td>\n",
       "    </tr>\n",
       "    <tr>\n",
       "      <th>1</th>\n",
       "      <td>31.3</td>\n",
       "      <td>78.25</td>\n",
       "      <td>1.3</td>\n",
       "    </tr>\n",
       "    <tr>\n",
       "      <th>2</th>\n",
       "      <td>31.5</td>\n",
       "      <td>78.75</td>\n",
       "      <td>1.5</td>\n",
       "    </tr>\n",
       "    <tr>\n",
       "      <th>3</th>\n",
       "      <td>32.0</td>\n",
       "      <td>80.00</td>\n",
       "      <td>2.0</td>\n",
       "    </tr>\n",
       "    <tr>\n",
       "      <th>4</th>\n",
       "      <td>32.2</td>\n",
       "      <td>80.50</td>\n",
       "      <td>2.2</td>\n",
       "    </tr>\n",
       "    <tr>\n",
       "      <th>5</th>\n",
       "      <td>32.9</td>\n",
       "      <td>82.50</td>\n",
       "      <td>2.9</td>\n",
       "    </tr>\n",
       "    <tr>\n",
       "      <th>6</th>\n",
       "      <td>33.0</td>\n",
       "      <td>83.00</td>\n",
       "      <td>3.0</td>\n",
       "    </tr>\n",
       "    <tr>\n",
       "      <th>7</th>\n",
       "      <td>33.2</td>\n",
       "      <td>83.00</td>\n",
       "      <td>3.2</td>\n",
       "    </tr>\n",
       "    <tr>\n",
       "      <th>8</th>\n",
       "      <td>33.2</td>\n",
       "      <td>84.25</td>\n",
       "      <td>3.2</td>\n",
       "    </tr>\n",
       "    <tr>\n",
       "      <th>9</th>\n",
       "      <td>33.7</td>\n",
       "      <td>84.75</td>\n",
       "      <td>3.7</td>\n",
       "    </tr>\n",
       "    <tr>\n",
       "      <th>10</th>\n",
       "      <td>33.9</td>\n",
       "      <td>85.00</td>\n",
       "      <td>3.9</td>\n",
       "    </tr>\n",
       "    <tr>\n",
       "      <th>11</th>\n",
       "      <td>34.0</td>\n",
       "      <td>85.00</td>\n",
       "      <td>4.0</td>\n",
       "    </tr>\n",
       "    <tr>\n",
       "      <th>12</th>\n",
       "      <td>34.0</td>\n",
       "      <td>82.25</td>\n",
       "      <td>4.0</td>\n",
       "    </tr>\n",
       "  </tbody>\n",
       "</table>\n",
       "</div>"
      ],
      "text/plain": [
       "     age  distance  yearsof experience\n",
       "0   31.1     77.50                 1.1\n",
       "1   31.3     78.25                 1.3\n",
       "2   31.5     78.75                 1.5\n",
       "3   32.0     80.00                 2.0\n",
       "4   32.2     80.50                 2.2\n",
       "5   32.9     82.50                 2.9\n",
       "6   33.0     83.00                 3.0\n",
       "7   33.2     83.00                 3.2\n",
       "8   33.2     84.25                 3.2\n",
       "9   33.7     84.75                 3.7\n",
       "10  33.9     85.00                 3.9\n",
       "11  34.0     85.00                 4.0\n",
       "12  34.0     82.25                 4.0"
      ]
     },
     "execution_count": 29,
     "metadata": {},
     "output_type": "execute_result"
    }
   ],
   "source": [
    "X = df[['age', 'distance', 'yearsof experience']]\n",
    "X"
   ]
  },
  {
   "cell_type": "code",
   "execution_count": 30,
   "id": "70a82838",
   "metadata": {},
   "outputs": [
    {
     "data": {
      "text/plain": [
       "0     39343\n",
       "1     46205\n",
       "2     37731\n",
       "3     43525\n",
       "4     39891\n",
       "5     56642\n",
       "6     60150\n",
       "7     54445\n",
       "8     64445\n",
       "9     57189\n",
       "10    63218\n",
       "11    55794\n",
       "12    56957\n",
       "Name: salary, dtype: int64"
      ]
     },
     "execution_count": 30,
     "metadata": {},
     "output_type": "execute_result"
    }
   ],
   "source": [
    "y = df['salary']\n",
    "y"
   ]
  },
  {
   "cell_type": "markdown",
   "id": "9c891162",
   "metadata": {},
   "source": [
    "### Step-3 Fit Regression model"
   ]
  },
  {
   "cell_type": "code",
   "execution_count": 31,
   "id": "55aa7a3c",
   "metadata": {},
   "outputs": [
    {
     "data": {
      "text/plain": [
       "LinearRegression()"
      ]
     },
     "execution_count": 31,
     "metadata": {},
     "output_type": "execute_result"
    }
   ],
   "source": [
    "model = LinearRegression().fit(X, y)\n",
    "model"
   ]
  },
  {
   "cell_type": "code",
   "execution_count": 32,
   "id": "478ffcc1",
   "metadata": {},
   "outputs": [
    {
     "data": {
      "text/plain": [
       "array([-1.2612888e+17,  2.8960000e+03,  1.2612888e+17])"
      ]
     },
     "execution_count": 32,
     "metadata": {},
     "output_type": "execute_result"
    }
   ],
   "source": [
    "# co-efficient i1,i2 and i3\n",
    "model.coef_"
   ]
  },
  {
   "cell_type": "code",
   "execution_count": 33,
   "id": "a24bf395",
   "metadata": {},
   "outputs": [
    {
     "data": {
      "text/plain": [
       "3.783866396531021e+18"
      ]
     },
     "execution_count": 33,
     "metadata": {},
     "output_type": "execute_result"
    }
   ],
   "source": [
    "# to check the intercept like b in equation\n",
    "model.intercept_"
   ]
  },
  {
   "cell_type": "code",
   "execution_count": 34,
   "id": "c5253f9c",
   "metadata": {},
   "outputs": [
    {
     "data": {
      "text/plain": [
       "array([54272.])"
      ]
     },
     "execution_count": 34,
     "metadata": {},
     "output_type": "execute_result"
    }
   ],
   "source": [
    "model.predict([[32.9,82.50,2.9]])"
   ]
  },
  {
   "cell_type": "code",
   "execution_count": 51,
   "id": "126f7a64",
   "metadata": {},
   "outputs": [],
   "source": [
    "from sklearn.model_selection import train_test_split\n",
    "X_train, X_test, y_train, y_test = train_test_split(X,y, test_size=0.3, random_state = 0)"
   ]
  },
  {
   "cell_type": "code",
   "execution_count": 52,
   "id": "a788f9fc",
   "metadata": {},
   "outputs": [
    {
     "data": {
      "text/plain": [
       "array([54784., 61952., 47104., 61952.])"
      ]
     },
     "execution_count": 52,
     "metadata": {},
     "output_type": "execute_result"
    }
   ],
   "source": [
    "y_predict = model.predict(X_test)\n",
    "y_predict"
   ]
  },
  {
   "cell_type": "markdown",
   "id": "383834e6",
   "metadata": {},
   "source": [
    "### Step-4 Plotting"
   ]
  },
  {
   "cell_type": "code",
   "execution_count": 53,
   "id": "9c4318d2",
   "metadata": {},
   "outputs": [
    {
     "data": {
      "image/png": "[encoded data removed]",
      "text/plain": [
       "<Figure size 432x288 with 1 Axes>"
      ]
     },
     "metadata": {},
     "output_type": "display_data"
    }
   ],
   "source": [
    "\n",
    "plt.scatter(df['age'], df['salary'], color='red')\n",
    "plt.title('salary vs age', fontsize=14)\n",
    "plt.xlabel('age', fontsize=14)\n",
    "plt.ylabel('salary', fontsize=14)\n",
    "plt.grid(True)\n",
    "plt.show()"
   ]
  },
  {
   "cell_type": "code",
   "execution_count": 54,
   "id": "629e99c0",
   "metadata": {},
   "outputs": [
    {
     "data": {
      "image/png": "[encoded data removed]",
      "text/plain": [
       "<Figure size 432x288 with 1 Axes>"
      ]
     },
     "metadata": {},
     "output_type": "display_data"
    }
   ],
   "source": [
    "plt.scatter(df['distance'], df['salary'], color='green')\n",
    "plt.title('salary vs distance', fontsize=14)\n",
    "plt.xlabel('distance', fontsize=14)\n",
    "plt.ylabel('salary', fontsize=14)\n",
    "plt.grid(True)\n",
    "plt.show()"
   ]
  },
  {
   "cell_type": "code",
   "execution_count": 55,
   "id": "be2b0c6d",
   "metadata": {},
   "outputs": [
    {
     "data": {
      "image/png": "[encoded data removed]",
      "text/plain": [
       "<Figure size 432x288 with 1 Axes>"
      ]
     },
     "metadata": {},
     "output_type": "display_data"
    }
   ],
   "source": [
    "plt.scatter(df['yearsof experience'], df['salary'], color='blue')\n",
    "plt.title('salary vs yearsof experience', fontsize=14)\n",
    "plt.xlabel('yearsof experience', fontsize=14)\n",
    "plt.ylabel('salary', fontsize=14)\n",
    "plt.grid(True)\n",
    "plt.show()"
   ]
  },
  {
   "cell_type": "markdown",
   "id": "4f56b859",
   "metadata": {},
   "source": [
    "### Step-5 Testing or Evaluating model"
   ]
  },
  {
   "cell_type": "code",
   "execution_count": 56,
   "id": "bf1a5715",
   "metadata": {},
   "outputs": [
    {
     "name": "stdout",
     "output_type": "stream",
     "text": [
      "Score for Training data =  0.8350210103932496\n",
      "Score for Test data = 0.6271216583222408\n"
     ]
    }
   ],
   "source": [
    "# model fitness\n",
    "print('Score for Training data = ', model.score(X_train, y_train))\n",
    "print('Score for Test data =', model.score(X_test, y_test))"
   ]
  },
  {
   "cell_type": "markdown",
   "id": "e030020e",
   "metadata": {},
   "source": [
    "### Step-6 Accuracy of Multiple linear regression"
   ]
  },
  {
   "cell_type": "code",
   "execution_count": 57,
   "id": "41c473b4",
   "metadata": {},
   "outputs": [
    {
     "name": "stdout",
     "output_type": "stream",
     "text": [
      "r2 socre is  0.6271216583222408\n",
      "mean_sqrd_error is== 30086261.25\n",
      "root_mean_squared error of is== 5485.094461356158\n"
     ]
    }
   ],
   "source": [
    "from sklearn.metrics import r2_score\n",
    "from sklearn.metrics import mean_squared_error\n",
    "score=r2_score(y_test,y_predict)\n",
    "print('r2 socre is ',score)\n",
    "print('mean_sqrd_error is==',mean_squared_error(y_test,y_predict))\n",
    "print('root_mean_squared error of is==',np.sqrt(mean_squared_error(y_test,y_predict)))"
   ]
  },
  {
   "cell_type": "code",
   "execution_count": 58,
   "id": "9a819e20",
   "metadata": {},
   "outputs": [
    {
     "name": "stdout",
     "output_type": "stream",
     "text": [
      "62.71216583222407 %\n"
     ]
    }
   ],
   "source": [
    "r2_score = model.score(X_test,y_test)\n",
    "print(r2_score*100,'%')"
   ]
  },
  {
   "cell_type": "code",
   "execution_count": null,
   "id": "eeed844e",
   "metadata": {},
   "outputs": [],
   "source": []
  }
 ],
 "metadata": {
  "kernelspec": {
   "display_name": "Python 3 (ipykernel)",
   "language": "python",
   "name": "python3"
  },
  "language_info": {
   "codemirror_mode": {
    "name": "ipython",
    "version": 3
   },
   "file_extension": ".py",
   "mimetype": "text/x-python",
   "name": "python",
   "nbconvert_exporter": "python",
   "pygments_lexer": "ipython3",
   "version": "3.9.7"
  }
 },
 "nbformat": 4,
 "nbformat_minor": 5
}
